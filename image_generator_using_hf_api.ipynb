{
 "cells": [
  {
   "cell_type": "code",
   "execution_count": 1,
   "metadata": {},
   "outputs": [],
   "source": [
    "# Import necessary libraries\n",
    "from pathlib import Path  # Module for working with file paths\n",
    "import tqdm  # Library for displaying progress bars\n",
    "import torch  #girst PyTorch library for deep learning\n",
    "import pandas as pd  # Pandas library for data manipulation and analysis\n",
    "import numpy as np  # NumPy library for numerical operations\n",
    "from diffusers import StableDiffusionPipeline  # Stable Diffusion model for image generation\n",
    "from transformers import pipeline, set_seed  # Hugging Face Transformers library for natural language processing\n",
    "import matplotlib.pyplot as plt  # Matplotlib library for data visualization\n",
    "import cv2  # OpenCV library for computer vision"
   ]
  },
  {
   "cell_type": "code",
   "execution_count": 2,
   "metadata": {},
   "outputs": [],
   "source": [
    "# Configuration class to store various settings\n",
    "class CFG:\n",
    "    # Device for computation (CUDA for GPU if available)\n",
    "    device = \"cuda\"\n",
    "    \n",
    "    # Seed for reproducibility\n",
    "    seed = 42\n",
    "    \n",
    "    # PyTorch random number generator initialization\n",
    "    generator = torch.Generator(device).manual_seed(seed)\n",
    "    \n",
    "    # Parameters for image generation\n",
    "    image_gen_steps = 35  # Number of steps for image generation\n",
    "    image_gen_model_id = \"stabilityai/stable-diffusion-2\"  # Model ID for Stable Diffusion\n",
    "    image_gen_size = (400, 400)  # Size of the generated image\n",
    "    image_gen_guidance_scale = 9  # Guidance scale for the image generation\n",
    "    \n",
    "    # Model ID for prompt-based text generation\n",
    "    prompt_gen_model_id = \"gpt2\"\n",
    "    \n",
    "    # Dataset size for prompt-based text generation\n",
    "    prompt_dataset_size = 6\n",
    "    \n",
    "    # Maximum length of the generated prompt\n",
    "    prompt_max_length = 12"
   ]
  },
  {
   "cell_type": "code",
   "execution_count": 3,
   "metadata": {},
   "outputs": [
    {
     "name": "stderr",
     "output_type": "stream",
     "text": [
      "unet\\diffusion_pytorch_model.safetensors not found\n",
      "Keyword arguments {'guidance_scale': 9} are not expected by StableDiffusionPipeline and will be ignored.\n"
     ]
    },
    {
     "data": {
      "application/vnd.jupyter.widget-view+json": {
       "model_id": "bd707aa79920465f80d8ecc127ac5e08",
       "version_major": 2,
       "version_minor": 0
      },
      "text/plain": [
       "Loading pipeline components...:   0%|          | 0/5 [00:00<?, ?it/s]"
      ]
     },
     "metadata": {},
     "output_type": "display_data"
    }
   ],
   "source": [
    "# Load the Stable Diffusion model for image generation\n",
    "image_gen_model = StableDiffusionPipeline.from_pretrained(\n",
    "    CFG.image_gen_model_id,\n",
    "    torch_dtype=torch.float16,\n",
    "    revision=\"fp16\",\n",
    "    use_auth_token='Hugging_face_api_key',\n",
    "    guidance_scale=CFG.image_gen_guidance_scale\n",
    ")\n",
    "\n",
    "# Move the model to the specified device (CPU or GPU)\n",
    "image_gen_model = image_gen_model.to(CFG.device)"
   ]
  },
  {
   "cell_type": "code",
   "execution_count": 4,
   "metadata": {},
   "outputs": [],
   "source": [
    "# Function to generate an image given a prompt using the loaded model\n",
    "def generate_image(prompt, model):\n",
    "    # Generate an image based on the provided prompt\n",
    "    image = model(\n",
    "        prompt,\n",
    "        num_inference_steps=CFG.image_gen_steps,\n",
    "        generator=CFG.generator,\n",
    "        guidance_scale=CFG.image_gen_guidance_scale\n",
    "    ).images[0]\n",
    "    \n",
    "    # Resize the generated image to the specified size\n",
    "    image = image.resize(CFG.image_gen_size)\n",
    "    \n",
    "    # Return the generated image\n",
    "    return image"
   ]
  },
  {
   "cell_type": "code",
   "execution_count": 5,
   "metadata": {},
   "outputs": [
    {
     "data": {
      "application/vnd.jupyter.widget-view+json": {
       "model_id": "9a7360c3420b49698256402167710e7c",
       "version_major": 2,
       "version_minor": 0
      },
      "text/plain": [
       "  0%|          | 0/35 [00:00<?, ?it/s]"
      ]
     },
     "metadata": {},
     "output_type": "display_data"
    }
   ],
   "source": [
    "# Example usage: generate an image with the prompt \"a boy sit on chair\"\n",
    "generate_image(\"a boy sit on chair \", image_gen_model)\n"
   ]
  },
  {
   "cell_type": "code",
   "execution_count": null,
   "metadata": {},
   "outputs": [],
   "source": []
  }
 ],
 "metadata": {
  "kernelspec": {
   "display_name": "Python 3",
   "language": "python",
   "name": "python3"
  },
  "language_info": {
   "codemirror_mode": {
    "name": "ipython",
    "version": 3
   },
   "file_extension": ".py",
   "mimetype": "text/x-python",
   "name": "python",
   "nbconvert_exporter": "python",
   "pygments_lexer": "ipython3",
   "version": "3.11.5"
  }
 },
 "nbformat": 4,
 "nbformat_minor": 2
}
